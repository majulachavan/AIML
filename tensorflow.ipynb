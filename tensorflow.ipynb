{
  "nbformat": 4,
  "nbformat_minor": 0,
  "metadata": {
    "colab": {
      "provenance": [],
      "authorship_tag": "ABX9TyPyseO7sPkLfHcfdz4WDkV1",
      "include_colab_link": true
    },
    "kernelspec": {
      "name": "python3",
      "display_name": "Python 3"
    },
    "language_info": {
      "name": "python"
    }
  },
  "cells": [
    {
      "cell_type": "markdown",
      "metadata": {
        "id": "view-in-github",
        "colab_type": "text"
      },
      "source": [
        "<a href=\"https://colab.research.google.com/github/majulachavan/AIML/blob/main/tensorflow.ipynb\" target=\"_parent\"><img src=\"https://colab.research.google.com/assets/colab-badge.svg\" alt=\"Open In Colab\"/></a>"
      ]
    },
    {
      "cell_type": "code",
      "execution_count": null,
      "metadata": {
        "id": "PBTdLskVpz_A"
      },
      "outputs": [],
      "source": [
        "import tensorflow as tf\n",
        "from tensorflow import keras\n",
        "import os,datetime"
      ]
    },
    {
      "cell_type": "code",
      "source": [
        " mnist=tf.keras.datasets.mnist\n",
        " "
      ],
      "metadata": {
        "id": "ta6k3ZAIucaz"
      },
      "execution_count": null,
      "outputs": []
    },
    {
      "cell_type": "code",
      "source": [
        "(xtrain,ytrain),(xtest,ytest)=mnist.load_data()"
      ],
      "metadata": {
        "colab": {
          "base_uri": "https://localhost:8080/"
        },
        "id": "2WVNhK4OvUdH",
        "outputId": "9b8b86b9-d16d-4a44-d7ff-49a504804f53"
      },
      "execution_count": null,
      "outputs": [
        {
          "output_type": "stream",
          "name": "stdout",
          "text": [
            "Downloading data from https://storage.googleapis.com/tensorflow/tf-keras-datasets/mnist.npz\n",
            "11490434/11490434 [==============================] - 0s 0us/step\n"
          ]
        }
      ]
    },
    {
      "cell_type": "code",
      "source": [
        "print('shape is',xtrain[0].shape)\n",
        "import matplotlib.pyplot as  plt\n",
        "plt.imshow(xtrain[2])\n",
        "plt.show()\n",
        "print(\"first digit in ytrain is\",ytrain[2])"
      ],
      "metadata": {
        "colab": {
          "base_uri": "https://localhost:8080/",
          "height": 300
        },
        "id": "bJgEMYeOvrim",
        "outputId": "d2d168d7-29d6-4cb3-d44a-ede4357e972f"
      },
      "execution_count": null,
      "outputs": [
        {
          "output_type": "stream",
          "name": "stdout",
          "text": [
            "shape is (28, 28)\n"
          ]
        },
        {
          "output_type": "display_data",
          "data": {
            "text/plain": [
              "<Figure size 432x288 with 1 Axes>"
            ],
            "image/png": "[encoded data removed]"
          },
          "metadata": {
            "needs_background": "light"
          }
        },
        {
          "output_type": "stream",
          "name": "stdout",
          "text": [
            "first digit in ytrain is 4\n"
          ]
        }
      ]
    },
    {
      "cell_type": "code",
      "source": [
        "ytrain.shape"
      ],
      "metadata": {
        "colab": {
          "base_uri": "https://localhost:8080/"
        },
        "id": "cBxddIplwHiw",
        "outputId": "fd3c8734-414f-46d7-90a0-fcc4b6e8a0d4"
      },
      "execution_count": null,
      "outputs": [
        {
          "output_type": "execute_result",
          "data": {
            "text/plain": [
              "(60000,)"
            ]
          },
          "metadata": {},
          "execution_count": 5
        }
      ]
    },
    {
      "cell_type": "code",
      "source": [
        "xtrain.shape"
      ],
      "metadata": {
        "colab": {
          "base_uri": "https://localhost:8080/"
        },
        "id": "_HzI62zYwOB_",
        "outputId": "6b5d4efb-e86c-4939-8802-b0404f0db2b7"
      },
      "execution_count": null,
      "outputs": [
        {
          "output_type": "execute_result",
          "data": {
            "text/plain": [
              "(60000, 28, 28)"
            ]
          },
          "metadata": {},
          "execution_count": 6
        }
      ]
    },
    {
      "cell_type": "code",
      "source": [
        "xtest.shape"
      ],
      "metadata": {
        "colab": {
          "base_uri": "https://localhost:8080/"
        },
        "id": "9Kk-2BWcwR_W",
        "outputId": "59881e15-7e02-4c50-b3be-8bb07470df5e"
      },
      "execution_count": null,
      "outputs": [
        {
          "output_type": "execute_result",
          "data": {
            "text/plain": [
              "(10000, 28, 28)"
            ]
          },
          "metadata": {},
          "execution_count": 7
        }
      ]
    },
    {
      "cell_type": "code",
      "source": [
        "ytest.shape"
      ],
      "metadata": {
        "colab": {
          "base_uri": "https://localhost:8080/"
        },
        "id": "SpyYsKzmwT_u",
        "outputId": "0d97400f-bd50-4a52-ed61-4455e9b21142"
      },
      "execution_count": null,
      "outputs": [
        {
          "output_type": "execute_result",
          "data": {
            "text/plain": [
              "(10000,)"
            ]
          },
          "metadata": {},
          "execution_count": 8
        }
      ]
    },
    {
      "cell_type": "code",
      "source": [
        "xtrain,xtest=xtrain/255.0,xtest/255.0"
      ],
      "metadata": {
        "id": "kB6bSXMHwWTm"
      },
      "execution_count": null,
      "outputs": []
    },
    {
      "cell_type": "code",
      "source": [
        "def create_model():\n",
        "  model=tf.keras.models.Sequential([\n",
        "      tf.keras.layers.Flatten(input_shape=(28,28)),\n",
        "      tf.keras.layers.Dense(512,activation='relu'),\n",
        "      tf.keras.layers.Dropout(0.2),\n",
        "      tf.keras.layers.Dense(10,activation='softmax')\n",
        "  ])\n",
        "  return model"
      ],
      "metadata": {
        "id": "XOKpSB_Ywenm"
      },
      "execution_count": null,
      "outputs": []
    },
    {
      "cell_type": "code",
      "source": [
        "model=create_model()"
      ],
      "metadata": {
        "id": "DbzX0_LXxdZf"
      },
      "execution_count": null,
      "outputs": []
    },
    {
      "cell_type": "code",
      "source": [
        "model.compile(optimizer='sgd',\n",
        "              loss='sparse_categorical_crossentropy',\n",
        "              metrics=['accuracy'])"
      ],
      "metadata": {
        "id": "rlgAOzCGxqRO"
      },
      "execution_count": null,
      "outputs": []
    },
    {
      "cell_type": "code",
      "source": [
        "logdir=os.path.join(\"logs\",datetime.datetime.now().strftime(\"%Y%m%d-%H%M%S\"))\n",
        "tensorboard_callback=tf.keras.callbacks.TensorBoard(logdir,histogram_freq=1)\n"
      ],
      "metadata": {
        "id": "tKzlfrOByM3Y"
      },
      "execution_count": null,
      "outputs": []
    },
    {
      "cell_type": "code",
      "source": [
        "checkpoint_path='Model_checkpoint/cp/{epoch:04d}.ckpt'\n",
        "checkpoint_dir=os.path.dirname(checkpoint_path)\n",
        "checkpoint_callback=tf.keras.callbacks.ModelCheckpoint(\n",
        "    checkpoint_path,monitor='val_acc',verbose=1,save_weights_only=True,save_freq='epoch'\n",
        ")"
      ],
      "metadata": {
        "id": "vekmZL_hy80I"
      },
      "execution_count": null,
      "outputs": []
    },
    {
      "cell_type": "code",
      "source": [
        "history = model.fit(xtrain,ytrain,epochs=5,validation_data=(xtest,ytest),callbacks=[tensorboard_callback,checkpoint_callback])\n",
        "loss,acc= model.evaluate(xtest,ytest,verbose=1)\n",
        "print(\"original model , accuracy:{:5.2f}%\".format(100*acc))"
      ],
      "metadata": {
        "colab": {
          "base_uri": "https://localhost:8080/"
        },
        "id": "eEqub1YR0iio",
        "outputId": "7ad6b89a-3df7-4ce7-ec30-0fb55d11811a"
      },
      "execution_count": null,
      "outputs": [
        {
          "output_type": "stream",
          "name": "stdout",
          "text": [
            "Epoch 1/5\n",
            "1870/1875 [============================>.] - ETA: 0s - loss: 0.6307 - accuracy: 0.8368\n",
            "Epoch 1: saving model to Model_checkpoint/cp/0001.ckpt\n",
            "1875/1875 [==============================] - 19s 10ms/step - loss: 0.6299 - accuracy: 0.8370 - val_loss: 0.3399 - val_accuracy: 0.9100\n",
            "Epoch 2/5\n",
            "1870/1875 [============================>.] - ETA: 0s - loss: 0.3397 - accuracy: 0.9042\n",
            "Epoch 2: saving model to Model_checkpoint/cp/0002.ckpt\n",
            "1875/1875 [==============================] - 9s 5ms/step - loss: 0.3396 - accuracy: 0.9043 - val_loss: 0.2753 - val_accuracy: 0.9242\n",
            "Epoch 3/5\n",
            "1873/1875 [============================>.] - ETA: 0s - loss: 0.2875 - accuracy: 0.9191\n",
            "Epoch 3: saving model to Model_checkpoint/cp/0003.ckpt\n",
            "1875/1875 [==============================] - 12s 6ms/step - loss: 0.2875 - accuracy: 0.9190 - val_loss: 0.2395 - val_accuracy: 0.9338\n",
            "Epoch 4/5\n",
            "1870/1875 [============================>.] - ETA: 0s - loss: 0.2523 - accuracy: 0.9282\n",
            "Epoch 4: saving model to Model_checkpoint/cp/0004.ckpt\n",
            "1875/1875 [==============================] - 12s 6ms/step - loss: 0.2524 - accuracy: 0.9283 - val_loss: 0.2162 - val_accuracy: 0.9375\n",
            "Epoch 5/5\n",
            "1875/1875 [==============================] - ETA: 0s - loss: 0.2269 - accuracy: 0.9363\n",
            "Epoch 5: saving model to Model_checkpoint/cp/0005.ckpt\n",
            "1875/1875 [==============================] - 12s 6ms/step - loss: 0.2269 - accuracy: 0.9363 - val_loss: 0.1959 - val_accuracy: 0.9444\n",
            "313/313 [==============================] - 1s 3ms/step - loss: 0.1959 - accuracy: 0.9444\n",
            "original model , accuracy:94.44%\n"
          ]
        }
      ]
    },
    {
      "cell_type": "code",
      "source": [
        "model.save('MyModel',save_format='tf')"
      ],
      "metadata": {
        "id": "tEwbjTRW1kJO"
      },
      "execution_count": null,
      "outputs": []
    },
    {
      "cell_type": "code",
      "source": [
        "loaded_model=tf.keras.models.load_model('MyModel')\n",
        "loaded_loss,loaded_acc=loaded_model.evaluate(xtest,ytest,verbose=1)\n",
        "print(\"Loaded model , accuracy : {:5.2f}%\".format(100*loaded_acc))"
      ],
      "metadata": {
        "colab": {
          "base_uri": "https://localhost:8080/"
        },
        "id": "r9Ul85Vo2RL2",
        "outputId": "9fbfd1f0-52aa-4252-b506-72d47dfa8fd7"
      },
      "execution_count": null,
      "outputs": [
        {
          "output_type": "stream",
          "name": "stdout",
          "text": [
            "313/313 [==============================] - 1s 3ms/step - loss: 0.1959 - accuracy: 0.9444\n",
            "Loaded model , accuracy : 94.44%\n"
          ]
        }
      ]
    },
    {
      "cell_type": "code",
      "source": [
        "%load_ext tensorboard"
      ],
      "metadata": {
        "id": "4H-6vHIt21k1"
      },
      "execution_count": null,
      "outputs": []
    },
    {
      "cell_type": "code",
      "source": [],
      "metadata": {
        "id": "l5CA0jmUSh7H"
      },
      "execution_count": null,
      "outputs": []
    },
    {
      "cell_type": "code",
      "source": [
        "%tensorboard --logdir logs"
      ],
      "metadata": {
        "colab": {
          "base_uri": "https://localhost:8080/",
          "height": 34
        },
        "id": "IcreQmnE27ld",
        "outputId": "1cca2f97-b6e5-4285-f04f-50575a3d1488"
      },
      "execution_count": null,
      "outputs": [
        {
          "output_type": "display_data",
          "data": {
            "text/plain": [
              "Launching TensorBoard..."
            ]
          },
          "metadata": {}
        }
      ]
    },
    {
      "cell_type": "code",
      "source": [],
      "metadata": {
        "id": "6iCIBtwE3BgM"
      },
      "execution_count": null,
      "outputs": []
    }
  ]
}