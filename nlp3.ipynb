{
  "nbformat": 4,
  "nbformat_minor": 0,
  "metadata": {
    "colab": {
      "provenance": [],
      "authorship_tag": "ABX9TyMn1FRtiJyZ/xXC16BJWZGT",
      "include_colab_link": true
    },
    "kernelspec": {
      "name": "python3",
      "display_name": "Python 3"
    },
    "language_info": {
      "name": "python"
    }
  },
  "cells": [
    {
      "cell_type": "markdown",
      "metadata": {
        "id": "view-in-github",
        "colab_type": "text"
      },
      "source": [
        "<a href=\"https://colab.research.google.com/github/majulachavan/AIML/blob/main/nlp3.ipynb\" target=\"_parent\"><img src=\"https://colab.research.google.com/assets/colab-badge.svg\" alt=\"Open In Colab\"/></a>"
      ]
    },
    {
      "cell_type": "code",
      "execution_count": null,
      "metadata": {
        "id": "rCa6R5GQst3f"
      },
      "outputs": [],
      "source": [
        "#word tokenize"
      ]
    },
    {
      "cell_type": "code",
      "source": [
        "import nltk"
      ],
      "metadata": {
        "id": "HANrTi9cs1Eo"
      },
      "execution_count": 1,
      "outputs": []
    },
    {
      "cell_type": "code",
      "source": [
        "import spacy\n",
        "nltk.download('punkt')\n",
        "from sklearn.datasets import fetch_20newsgroups"
      ],
      "metadata": {
        "id": "yIK1aLTotFmW",
        "colab": {
          "base_uri": "https://localhost:8080/"
        },
        "outputId": "5bca281d-50d7-4e41-978f-bafe2fb4bc56"
      },
      "execution_count": 4,
      "outputs": [
        {
          "output_type": "stream",
          "name": "stderr",
          "text": [
            "[nltk_data] Downloading package punkt to /root/nltk_data...\n",
            "[nltk_data]   Unzipping tokenizers/punkt.zip.\n"
          ]
        }
      ]
    },
    {
      "cell_type": "code",
      "source": [
        "new_data=fetch_20newsgroups(subset='all')\n",
        "articles=new_data.data"
      ],
      "metadata": {
        "id": "1TCjxi8DtPVK"
      },
      "execution_count": 6,
      "outputs": []
    },
    {
      "cell_type": "code",
      "source": [
        "print(articles[0])"
      ],
      "metadata": {
        "colab": {
          "base_uri": "https://localhost:8080/"
        },
        "id": "r4gYklmv29qC",
        "outputId": "385a6726-be65-481c-ce63-5ade6e9faee9"
      },
      "execution_count": 8,
      "outputs": [
        {
          "output_type": "stream",
          "name": "stdout",
          "text": [
            "From: Mamatha Devineni Ratnam <mr47+@andrew.cmu.edu>\n",
            "Subject: Pens fans reactions\n",
            "Organization: Post Office, Carnegie Mellon, Pittsburgh, PA\n",
            "Lines: 12\n",
            "NNTP-Posting-Host: po4.andrew.cmu.edu\n",
            "\n",
            "\n",
            "\n",
            "I am sure some bashers of Pens fans are pretty confused about the lack\n",
            "of any kind of posts about the recent Pens massacre of the Devils. Actually,\n",
            "I am  bit puzzled too and a bit relieved. However, I am going to put an end\n",
            "to non-PIttsburghers' relief with a bit of praise for the Pens. Man, they\n",
            "are killing those Devils worse than I thought. Jagr just showed you why\n",
            "he is much better than his regular season stats. He is also a lot\n",
            "fo fun to watch in the playoffs. Bowman should let JAgr have a lot of\n",
            "fun in the next couple of games since the Pens are going to beat the pulp out of Jersey anyway. I was very disappointed not to see the Islanders lose the final\n",
            "regular season game.          PENS RULE!!!\n",
            "\n",
            "\n"
          ]
        }
      ]
    },
    {
      "cell_type": "code",
      "source": [
        "#Tokenization"
      ],
      "metadata": {
        "id": "NXM5AfTR3FaP"
      },
      "execution_count": 9,
      "outputs": []
    },
    {
      "cell_type": "code",
      "source": [
        "from nltk.tokenize import word_tokenize,sent_tokenize"
      ],
      "metadata": {
        "id": "3eAPy2fQ3jen"
      },
      "execution_count": 10,
      "outputs": []
    },
    {
      "cell_type": "code",
      "source": [
        "first_article=articles[0]"
      ],
      "metadata": {
        "id": "7UPtjEsL3rBN"
      },
      "execution_count": 11,
      "outputs": []
    },
    {
      "cell_type": "code",
      "source": [
        "word_tokens=word_tokenize(first_article)\n",
        "sent_tokens=sent_tokenize(first_article)"
      ],
      "metadata": {
        "id": "t0b8hs8H4Ner"
      },
      "execution_count": 15,
      "outputs": []
    },
    {
      "cell_type": "code",
      "source": [
        "print(word_tokens)\n",
        "print(sent_tokens)"
      ],
      "metadata": {
        "colab": {
          "base_uri": "https://localhost:8080/"
        },
        "id": "Qyy9mY604aCQ",
        "outputId": "d6b9cd65-136a-4efb-8af5-c70c875fa8e6"
      },
      "execution_count": 16,
      "outputs": [
        {
          "output_type": "stream",
          "name": "stdout",
          "text": [
            "['From', ':', 'Mamatha', 'Devineni', 'Ratnam', '<', 'mr47+', '@', 'andrew.cmu.edu', '>', 'Subject', ':', 'Pens', 'fans', 'reactions', 'Organization', ':', 'Post', 'Office', ',', 'Carnegie', 'Mellon', ',', 'Pittsburgh', ',', 'PA', 'Lines', ':', '12', 'NNTP-Posting-Host', ':', 'po4.andrew.cmu.edu', 'I', 'am', 'sure', 'some', 'bashers', 'of', 'Pens', 'fans', 'are', 'pretty', 'confused', 'about', 'the', 'lack', 'of', 'any', 'kind', 'of', 'posts', 'about', 'the', 'recent', 'Pens', 'massacre', 'of', 'the', 'Devils', '.', 'Actually', ',', 'I', 'am', 'bit', 'puzzled', 'too', 'and', 'a', 'bit', 'relieved', '.', 'However', ',', 'I', 'am', 'going', 'to', 'put', 'an', 'end', 'to', 'non-PIttsburghers', \"'\", 'relief', 'with', 'a', 'bit', 'of', 'praise', 'for', 'the', 'Pens', '.', 'Man', ',', 'they', 'are', 'killing', 'those', 'Devils', 'worse', 'than', 'I', 'thought', '.', 'Jagr', 'just', 'showed', 'you', 'why', 'he', 'is', 'much', 'better', 'than', 'his', 'regular', 'season', 'stats', '.', 'He', 'is', 'also', 'a', 'lot', 'fo', 'fun', 'to', 'watch', 'in', 'the', 'playoffs', '.', 'Bowman', 'should', 'let', 'JAgr', 'have', 'a', 'lot', 'of', 'fun', 'in', 'the', 'next', 'couple', 'of', 'games', 'since', 'the', 'Pens', 'are', 'going', 'to', 'beat', 'the', 'pulp', 'out', 'of', 'Jersey', 'anyway', '.', 'I', 'was', 'very', 'disappointed', 'not', 'to', 'see', 'the', 'Islanders', 'lose', 'the', 'final', 'regular', 'season', 'game', '.', 'PENS', 'RULE', '!', '!', '!']\n",
            "['From: Mamatha Devineni Ratnam <mr47+@andrew.cmu.edu>\\nSubject: Pens fans reactions\\nOrganization: Post Office, Carnegie Mellon, Pittsburgh, PA\\nLines: 12\\nNNTP-Posting-Host: po4.andrew.cmu.edu\\n\\n\\n\\nI am sure some bashers of Pens fans are pretty confused about the lack\\nof any kind of posts about the recent Pens massacre of the Devils.', 'Actually,\\nI am  bit puzzled too and a bit relieved.', \"However, I am going to put an end\\nto non-PIttsburghers' relief with a bit of praise for the Pens.\", 'Man, they\\nare killing those Devils worse than I thought.', 'Jagr just showed you why\\nhe is much better than his regular season stats.', 'He is also a lot\\nfo fun to watch in the playoffs.', 'Bowman should let JAgr have a lot of\\nfun in the next couple of games since the Pens are going to beat the pulp out of Jersey anyway.', 'I was very disappointed not to see the Islanders lose the final\\nregular season game.', 'PENS RULE!!', '!']\n"
          ]
        }
      ]
    },
    {
      "cell_type": "code",
      "source": [
        "#Stop words removal"
      ],
      "metadata": {
        "id": "rL75KAPR4cH1"
      },
      "execution_count": 17,
      "outputs": []
    },
    {
      "cell_type": "code",
      "source": [
        "from nltk.corpus import stopwords"
      ],
      "metadata": {
        "id": "qfd36ExT42yP"
      },
      "execution_count": 18,
      "outputs": []
    },
    {
      "cell_type": "code",
      "source": [
        "#english_stw = stopwords.words(\"english\")\n",
        "nltk.download('stopwords')\n",
        "english_stw = stopwords.words(\"english\")"
      ],
      "metadata": {
        "colab": {
          "base_uri": "https://localhost:8080/"
        },
        "id": "1OK-BOLq5QTf",
        "outputId": "bb367284-a904-40dd-8240-b8bb29083264"
      },
      "execution_count": 22,
      "outputs": [
        {
          "output_type": "stream",
          "name": "stderr",
          "text": [
            "[nltk_data] Downloading package stopwords to /root/nltk_data...\n",
            "[nltk_data]   Unzipping corpora/stopwords.zip.\n"
          ]
        }
      ]
    },
    {
      "cell_type": "code",
      "source": [
        "non_stop_words=[word for word in word_tokens if word not in english_stw]"
      ],
      "metadata": {
        "id": "BFkQkeHP5chB"
      },
      "execution_count": 23,
      "outputs": []
    },
    {
      "cell_type": "code",
      "source": [
        "print(non_stop_words)"
      ],
      "metadata": {
        "colab": {
          "base_uri": "https://localhost:8080/"
        },
        "id": "LKl9hDn76LiY",
        "outputId": "7cbf2082-92aa-486c-9040-43de8d3eadca"
      },
      "execution_count": 24,
      "outputs": [
        {
          "output_type": "stream",
          "name": "stdout",
          "text": [
            "['From', ':', 'Mamatha', 'Devineni', 'Ratnam', '<', 'mr47+', '@', 'andrew.cmu.edu', '>', 'Subject', ':', 'Pens', 'fans', 'reactions', 'Organization', ':', 'Post', 'Office', ',', 'Carnegie', 'Mellon', ',', 'Pittsburgh', ',', 'PA', 'Lines', ':', '12', 'NNTP-Posting-Host', ':', 'po4.andrew.cmu.edu', 'I', 'sure', 'bashers', 'Pens', 'fans', 'pretty', 'confused', 'lack', 'kind', 'posts', 'recent', 'Pens', 'massacre', 'Devils', '.', 'Actually', ',', 'I', 'bit', 'puzzled', 'bit', 'relieved', '.', 'However', ',', 'I', 'going', 'put', 'end', 'non-PIttsburghers', \"'\", 'relief', 'bit', 'praise', 'Pens', '.', 'Man', ',', 'killing', 'Devils', 'worse', 'I', 'thought', '.', 'Jagr', 'showed', 'much', 'better', 'regular', 'season', 'stats', '.', 'He', 'also', 'lot', 'fo', 'fun', 'watch', 'playoffs', '.', 'Bowman', 'let', 'JAgr', 'lot', 'fun', 'next', 'couple', 'games', 'since', 'Pens', 'going', 'beat', 'pulp', 'Jersey', 'anyway', '.', 'I', 'disappointed', 'see', 'Islanders', 'lose', 'final', 'regular', 'season', 'game', '.', 'PENS', 'RULE', '!', '!', '!']\n"
          ]
        }
      ]
    },
    {
      "cell_type": "code",
      "source": [
        "#Punctuations removal"
      ],
      "metadata": {
        "id": "wBgokAkf6PNb"
      },
      "execution_count": 25,
      "outputs": []
    },
    {
      "cell_type": "code",
      "source": [
        "import string"
      ],
      "metadata": {
        "id": "uVGYST7t6XPl"
      },
      "execution_count": 26,
      "outputs": []
    },
    {
      "cell_type": "code",
      "source": [
        "without_punct=list(filter(lambda word:word not in string.punctuation,non_stop_words))"
      ],
      "metadata": {
        "id": "XzdMo2NW6cmI"
      },
      "execution_count": 27,
      "outputs": []
    },
    {
      "cell_type": "code",
      "source": [
        "print(without_punct)"
      ],
      "metadata": {
        "colab": {
          "base_uri": "https://localhost:8080/"
        },
        "id": "dZGoZfho68nf",
        "outputId": "bac60499-35de-49a2-e750-c493e83f0125"
      },
      "execution_count": 29,
      "outputs": [
        {
          "output_type": "stream",
          "name": "stdout",
          "text": [
            "['From', 'Mamatha', 'Devineni', 'Ratnam', 'mr47+', 'andrew.cmu.edu', 'Subject', 'Pens', 'fans', 'reactions', 'Organization', 'Post', 'Office', 'Carnegie', 'Mellon', 'Pittsburgh', 'PA', 'Lines', '12', 'NNTP-Posting-Host', 'po4.andrew.cmu.edu', 'I', 'sure', 'bashers', 'Pens', 'fans', 'pretty', 'confused', 'lack', 'kind', 'posts', 'recent', 'Pens', 'massacre', 'Devils', 'Actually', 'I', 'bit', 'puzzled', 'bit', 'relieved', 'However', 'I', 'going', 'put', 'end', 'non-PIttsburghers', 'relief', 'bit', 'praise', 'Pens', 'Man', 'killing', 'Devils', 'worse', 'I', 'thought', 'Jagr', 'showed', 'much', 'better', 'regular', 'season', 'stats', 'He', 'also', 'lot', 'fo', 'fun', 'watch', 'playoffs', 'Bowman', 'let', 'JAgr', 'lot', 'fun', 'next', 'couple', 'games', 'since', 'Pens', 'going', 'beat', 'pulp', 'Jersey', 'anyway', 'I', 'disappointed', 'see', 'Islanders', 'lose', 'final', 'regular', 'season', 'game', 'PENS', 'RULE']\n"
          ]
        }
      ]
    },
    {
      "cell_type": "code",
      "source": [
        "#Stemming & Lemmatization"
      ],
      "metadata": {
        "id": "2AMelSsq7Cy3"
      },
      "execution_count": 30,
      "outputs": []
    },
    {
      "cell_type": "code",
      "source": [
        "#Lemmatizer"
      ],
      "metadata": {
        "id": "FC5Ebb-r72pi"
      },
      "execution_count": 31,
      "outputs": []
    },
    {
      "cell_type": "code",
      "source": [
        "from nltk.stem import WordNetLemmatizer"
      ],
      "metadata": {
        "id": "dLjO6a5I8CwJ"
      },
      "execution_count": 32,
      "outputs": []
    },
    {
      "cell_type": "code",
      "source": [
        "nltk.download('wordnet')\n",
        "nltk.download('omw-1.4')"
      ],
      "metadata": {
        "colab": {
          "base_uri": "https://localhost:8080/"
        },
        "id": "GPNndZum8LuD",
        "outputId": "37f647ab-9198-4536-807b-ca9b02449d84"
      },
      "execution_count": 33,
      "outputs": [
        {
          "output_type": "stream",
          "name": "stderr",
          "text": [
            "[nltk_data] Downloading package wordnet to /root/nltk_data...\n",
            "[nltk_data] Downloading package omw-1.4 to /root/nltk_data...\n"
          ]
        },
        {
          "output_type": "execute_result",
          "data": {
            "text/plain": [
              "True"
            ]
          },
          "metadata": {},
          "execution_count": 33
        }
      ]
    },
    {
      "cell_type": "code",
      "source": [
        "my_lemma=WordNetLemmatizer()"
      ],
      "metadata": {
        "id": "yOq3VQhE8ZZ8"
      },
      "execution_count": 34,
      "outputs": []
    },
    {
      "cell_type": "code",
      "source": [
        "#Stemmer"
      ],
      "metadata": {
        "id": "nBlu6WiW9ewx"
      },
      "execution_count": 35,
      "outputs": []
    },
    {
      "cell_type": "code",
      "source": [
        "from nltk.stem.porter import PorterStemmer"
      ],
      "metadata": {
        "id": "88MySAse9lOJ"
      },
      "execution_count": 36,
      "outputs": []
    },
    {
      "cell_type": "code",
      "source": [
        "my_stemmer=PorterStemmer()"
      ],
      "metadata": {
        "id": "jqZe8-q29lQP"
      },
      "execution_count": 37,
      "outputs": []
    },
    {
      "cell_type": "code",
      "source": [
        "sample_text = \"\"\"This thing really confuses. \n",
        "                 But you confuse me more than what is written here.  \n",
        "                 So stay away from explaining things you do not understand. \n",
        "              \"\"\""
      ],
      "metadata": {
        "id": "3_E_bqI8-B3p"
      },
      "execution_count": 38,
      "outputs": []
    },
    {
      "cell_type": "code",
      "source": [
        "def stem_words(sentence,model=my_stemmer):\n",
        "  for word in sentence.split():\n",
        "    stem=model.stem(word)\n",
        "    print(\"word:{}-->:{}\".format(word,stem))"
      ],
      "metadata": {
        "id": "qZuIFSJ19lTg"
      },
      "execution_count": 39,
      "outputs": []
    },
    {
      "cell_type": "code",
      "source": [
        "stem_words(sample_text,model=my_stemmer)"
      ],
      "metadata": {
        "colab": {
          "base_uri": "https://localhost:8080/"
        },
        "id": "n0jIDtN49lWZ",
        "outputId": "9b778c83-4abb-4b26-8336-3d7f64bd3742"
      },
      "execution_count": 40,
      "outputs": [
        {
          "output_type": "stream",
          "name": "stdout",
          "text": [
            "word:This-->:thi\n",
            "word:thing-->:thing\n",
            "word:really-->:realli\n",
            "word:confuses.-->:confuses.\n",
            "word:But-->:but\n",
            "word:you-->:you\n",
            "word:confuse-->:confus\n",
            "word:me-->:me\n",
            "word:more-->:more\n",
            "word:than-->:than\n",
            "word:what-->:what\n",
            "word:is-->:is\n",
            "word:written-->:written\n",
            "word:here.-->:here.\n",
            "word:So-->:so\n",
            "word:stay-->:stay\n",
            "word:away-->:away\n",
            "word:from-->:from\n",
            "word:explaining-->:explain\n",
            "word:things-->:thing\n",
            "word:you-->:you\n",
            "word:do-->:do\n",
            "word:not-->:not\n",
            "word:understand.-->:understand.\n"
          ]
        }
      ]
    },
    {
      "cell_type": "code",
      "source": [
        "def lemmatize_words(sentence,model=my_lemma):\n",
        "  for word in sentence.split():\n",
        "    lemma=model.lemmatize(word)\n",
        "    print(\"word:{}-->:{}\".format(word,lemma))\n",
        "\n"
      ],
      "metadata": {
        "id": "m90bb_dH9j2F"
      },
      "execution_count": 52,
      "outputs": []
    },
    {
      "cell_type": "code",
      "source": [
        "lemmatize_words(sample_text, model = my_lemma)"
      ],
      "metadata": {
        "colab": {
          "base_uri": "https://localhost:8080/"
        },
        "id": "b_SXISvg8fl9",
        "outputId": "a9b970d4-1782-406d-b444-8b33ce6388aa"
      },
      "execution_count": 53,
      "outputs": [
        {
          "output_type": "stream",
          "name": "stdout",
          "text": [
            "word:This-->:This\n",
            "word:thing-->:thing\n",
            "word:really-->:really\n",
            "word:confuses.-->:confuses.\n",
            "word:But-->:But\n",
            "word:you-->:you\n",
            "word:confuse-->:confuse\n",
            "word:me-->:me\n",
            "word:more-->:more\n",
            "word:than-->:than\n",
            "word:what-->:what\n",
            "word:is-->:is\n",
            "word:written-->:written\n",
            "word:here.-->:here.\n",
            "word:So-->:So\n",
            "word:stay-->:stay\n",
            "word:away-->:away\n",
            "word:from-->:from\n",
            "word:explaining-->:explaining\n",
            "word:things-->:thing\n",
            "word:you-->:you\n",
            "word:do-->:do\n",
            "word:not-->:not\n",
            "word:understand.-->:understand.\n"
          ]
        }
      ]
    },
    {
      "cell_type": "code",
      "source": [
        "#Part of speech tagging"
      ],
      "metadata": {
        "id": "pO0Zk-DQ9j5B"
      },
      "execution_count": 54,
      "outputs": []
    },
    {
      "cell_type": "code",
      "source": [
        "from nltk.tag import pos_tag"
      ],
      "metadata": {
        "id": "xA7D3amzBXRw"
      },
      "execution_count": 55,
      "outputs": []
    },
    {
      "cell_type": "code",
      "source": [
        "nltk.download('averaged_perceptron_tagger')\n",
        "tagged=pos_tag(without_punct)\n"
      ],
      "metadata": {
        "colab": {
          "base_uri": "https://localhost:8080/"
        },
        "id": "w69zPosdBgF9",
        "outputId": "041a3098-947f-4f03-f6c0-177ba8508329"
      },
      "execution_count": 57,
      "outputs": [
        {
          "output_type": "stream",
          "name": "stderr",
          "text": [
            "[nltk_data] Downloading package averaged_perceptron_tagger to\n",
            "[nltk_data]     /root/nltk_data...\n",
            "[nltk_data]   Unzipping taggers/averaged_perceptron_tagger.zip.\n"
          ]
        }
      ]
    },
    {
      "cell_type": "code",
      "source": [
        "print(tagged)"
      ],
      "metadata": {
        "colab": {
          "base_uri": "https://localhost:8080/"
        },
        "id": "b2fJTpJuBsP6",
        "outputId": "80a957f4-4608-40fa-a50d-72fa4279e9c2"
      },
      "execution_count": 58,
      "outputs": [
        {
          "output_type": "stream",
          "name": "stdout",
          "text": [
            "[('From', 'IN'), ('Mamatha', 'NNP'), ('Devineni', 'NNP'), ('Ratnam', 'NNP'), ('mr47+', 'VBZ'), ('andrew.cmu.edu', 'NN'), ('Subject', 'NNP'), ('Pens', 'NNP'), ('fans', 'NNS'), ('reactions', 'NNS'), ('Organization', 'NNP'), ('Post', 'NNP'), ('Office', 'NNP'), ('Carnegie', 'NNP'), ('Mellon', 'NNP'), ('Pittsburgh', 'NNP'), ('PA', 'NNP'), ('Lines', 'VBZ'), ('12', 'CD'), ('NNTP-Posting-Host', 'JJ'), ('po4.andrew.cmu.edu', 'NN'), ('I', 'PRP'), ('sure', 'VBP'), ('bashers', 'NNS'), ('Pens', 'NNPS'), ('fans', 'NNS'), ('pretty', 'RB'), ('confused', 'JJ'), ('lack', 'NN'), ('kind', 'NN'), ('posts', 'VBZ'), ('recent', 'JJ'), ('Pens', 'NNP'), ('massacre', 'NN'), ('Devils', 'NNP'), ('Actually', 'NNP'), ('I', 'PRP'), ('bit', 'VBP'), ('puzzled', 'JJ'), ('bit', 'NN'), ('relieved', 'VBD'), ('However', 'RB'), ('I', 'PRP'), ('going', 'VBG'), ('put', 'JJ'), ('end', 'VB'), ('non-PIttsburghers', 'NNS'), ('relief', 'JJ'), ('bit', 'NN'), ('praise', 'NN'), ('Pens', 'NNP'), ('Man', 'NNP'), ('killing', 'VBG'), ('Devils', 'NNP'), ('worse', 'NN'), ('I', 'PRP'), ('thought', 'VBD'), ('Jagr', 'NNP'), ('showed', 'VBD'), ('much', 'JJ'), ('better', 'JJR'), ('regular', 'JJ'), ('season', 'NN'), ('stats', 'NNS'), ('He', 'PRP'), ('also', 'RB'), ('lot', 'VBD'), ('fo', 'JJ'), ('fun', 'NN'), ('watch', 'NN'), ('playoffs', 'NNS'), ('Bowman', 'NNP'), ('let', 'VBP'), ('JAgr', 'NNP'), ('lot', 'NN'), ('fun', 'NN'), ('next', 'JJ'), ('couple', 'NN'), ('games', 'NNS'), ('since', 'IN'), ('Pens', 'NNP'), ('going', 'VBG'), ('beat', 'NN'), ('pulp', 'NN'), ('Jersey', 'NNP'), ('anyway', 'RB'), ('I', 'PRP'), ('disappointed', 'VBD'), ('see', 'NN'), ('Islanders', 'NNPS'), ('lose', 'VBP'), ('final', 'JJ'), ('regular', 'NN'), ('season', 'NN'), ('game', 'NN'), ('PENS', 'NNP'), ('RULE', 'NNP')]\n"
          ]
        }
      ]
    },
    {
      "cell_type": "code",
      "source": [
        "#Named entity recognition\n"
      ],
      "metadata": {
        "id": "gxasFIlMB8bt"
      },
      "execution_count": 59,
      "outputs": []
    },
    {
      "cell_type": "code",
      "source": [
        "import spacy"
      ],
      "metadata": {
        "id": "kzrYUgOgCDn0"
      },
      "execution_count": 60,
      "outputs": []
    },
    {
      "cell_type": "code",
      "source": [
        "raw_text=\"\"\"The Board of Control for Cricket in India (BCCI) is the governing body for cricket in India and is under \n",
        "#the jurisdiction of Ministry of Youth Affairs and Sports, Government of India.[2] \n",
        "#The board was formed in December 1928 as a society, registered under the Tamil Nadu Societies Registration Act. \n",
        "#It is a consortium of state cricket associations and the state associations select their representatives who in turn elect the BCCI Chief. \n",
        "#Its headquarters are in Wankhede Stadium, Mumbai. Grant Govan was its fill\"\"\""
      ],
      "metadata": {
        "id": "gkf0XYprCazn"
      },
      "execution_count": 61,
      "outputs": []
    },
    {
      "cell_type": "code",
      "source": [
        "NER=spacy.load(\"en_core_web_sm\",disable=[\"tok2vec\",\"tagger\",\"parser\",\"attribute_ruler\",\"lemmatizer\"])"
      ],
      "metadata": {
        "id": "MYKeDThRCeaI"
      },
      "execution_count": 66,
      "outputs": []
    },
    {
      "cell_type": "code",
      "source": [
        "text=NER(raw_text)"
      ],
      "metadata": {
        "id": "p3SOZ3B6Ci-L"
      },
      "execution_count": 67,
      "outputs": []
    },
    {
      "cell_type": "code",
      "source": [
        "for w in text.ents:\n",
        "    print(w.text,w.label_)"
      ],
      "metadata": {
        "colab": {
          "base_uri": "https://localhost:8080/"
        },
        "id": "kIPYCAodCo_g",
        "outputId": "be8345fd-4216-4800-9202-0dab0d152989"
      },
      "execution_count": 68,
      "outputs": [
        {
          "output_type": "stream",
          "name": "stdout",
          "text": [
            "The Board of Control for Cricket ORG\n",
            "India GPE\n",
            "BCCI ORG\n",
            "India GPE\n",
            "Ministry of Youth Affairs ORG\n",
            "Sports, Government ORG\n",
            "December 1928 DATE\n",
            "the Tamil Nadu Societies Registration Act ORG\n",
            "BCCI ORG\n",
            "Wankhede Stadium GPE\n",
            "Mumbai GPE\n",
            "Grant Govan PERSON\n"
          ]
        }
      ]
    },
    {
      "cell_type": "code",
      "source": [
        "spacy.displacy.render(text,style=\"ent\",jupyter=True)"
      ],
      "metadata": {
        "colab": {
          "base_uri": "https://localhost:8080/",
          "height": 192
        },
        "id": "Ro36IYS3CzYF",
        "outputId": "860026bc-fb04-4ab8-d179-634d481a31a3"
      },
      "execution_count": 69,
      "outputs": [
        {
          "output_type": "display_data",
          "data": {
            "text/plain": [
              "<IPython.core.display.HTML object>"
            ],
            "text/html": [
              "<span class=\"tex2jax_ignore\"><div class=\"entities\" style=\"line-height: 2.5; direction: ltr\">\n",
              "<mark class=\"entity\" style=\"background: #7aecec; padding: 0.45em 0.6em; margin: 0 0.25em; line-height: 1; border-radius: 0.35em;\">\n",
              "    The Board of Control for Cricket\n",
              "    <span style=\"font-size: 0.8em; font-weight: bold; line-height: 1; border-radius: 0.35em; vertical-align: middle; margin-left: 0.5rem\">ORG</span>\n",
              "</mark>\n",
              " in \n",
              "<mark class=\"entity\" style=\"background: #feca74; padding: 0.45em 0.6em; margin: 0 0.25em; line-height: 1; border-radius: 0.35em;\">\n",
              "    India\n",
              "    <span style=\"font-size: 0.8em; font-weight: bold; line-height: 1; border-radius: 0.35em; vertical-align: middle; margin-left: 0.5rem\">GPE</span>\n",
              "</mark>\n",
              " (\n",
              "<mark class=\"entity\" style=\"background: #7aecec; padding: 0.45em 0.6em; margin: 0 0.25em; line-height: 1; border-radius: 0.35em;\">\n",
              "    BCCI\n",
              "    <span style=\"font-size: 0.8em; font-weight: bold; line-height: 1; border-radius: 0.35em; vertical-align: middle; margin-left: 0.5rem\">ORG</span>\n",
              "</mark>\n",
              ") is the governing body for cricket in \n",
              "<mark class=\"entity\" style=\"background: #feca74; padding: 0.45em 0.6em; margin: 0 0.25em; line-height: 1; border-radius: 0.35em;\">\n",
              "    India\n",
              "    <span style=\"font-size: 0.8em; font-weight: bold; line-height: 1; border-radius: 0.35em; vertical-align: middle; margin-left: 0.5rem\">GPE</span>\n",
              "</mark>\n",
              " and is under </br>#the jurisdiction of \n",
              "<mark class=\"entity\" style=\"background: #7aecec; padding: 0.45em 0.6em; margin: 0 0.25em; line-height: 1; border-radius: 0.35em;\">\n",
              "    Ministry of Youth Affairs\n",
              "    <span style=\"font-size: 0.8em; font-weight: bold; line-height: 1; border-radius: 0.35em; vertical-align: middle; margin-left: 0.5rem\">ORG</span>\n",
              "</mark>\n",
              " and \n",
              "<mark class=\"entity\" style=\"background: #7aecec; padding: 0.45em 0.6em; margin: 0 0.25em; line-height: 1; border-radius: 0.35em;\">\n",
              "    Sports, Government\n",
              "    <span style=\"font-size: 0.8em; font-weight: bold; line-height: 1; border-radius: 0.35em; vertical-align: middle; margin-left: 0.5rem\">ORG</span>\n",
              "</mark>\n",
              " of India.[2] </br>#The board was formed in \n",
              "<mark class=\"entity\" style=\"background: #bfe1d9; padding: 0.45em 0.6em; margin: 0 0.25em; line-height: 1; border-radius: 0.35em;\">\n",
              "    December 1928\n",
              "    <span style=\"font-size: 0.8em; font-weight: bold; line-height: 1; border-radius: 0.35em; vertical-align: middle; margin-left: 0.5rem\">DATE</span>\n",
              "</mark>\n",
              " as a society, registered under \n",
              "<mark class=\"entity\" style=\"background: #7aecec; padding: 0.45em 0.6em; margin: 0 0.25em; line-height: 1; border-radius: 0.35em;\">\n",
              "    the Tamil Nadu Societies Registration Act\n",
              "    <span style=\"font-size: 0.8em; font-weight: bold; line-height: 1; border-radius: 0.35em; vertical-align: middle; margin-left: 0.5rem\">ORG</span>\n",
              "</mark>\n",
              ". </br>#It is a consortium of state cricket associations and the state associations select their representatives who in turn elect the \n",
              "<mark class=\"entity\" style=\"background: #7aecec; padding: 0.45em 0.6em; margin: 0 0.25em; line-height: 1; border-radius: 0.35em;\">\n",
              "    BCCI\n",
              "    <span style=\"font-size: 0.8em; font-weight: bold; line-height: 1; border-radius: 0.35em; vertical-align: middle; margin-left: 0.5rem\">ORG</span>\n",
              "</mark>\n",
              " Chief. </br>#Its headquarters are in \n",
              "<mark class=\"entity\" style=\"background: #feca74; padding: 0.45em 0.6em; margin: 0 0.25em; line-height: 1; border-radius: 0.35em;\">\n",
              "    Wankhede Stadium\n",
              "    <span style=\"font-size: 0.8em; font-weight: bold; line-height: 1; border-radius: 0.35em; vertical-align: middle; margin-left: 0.5rem\">GPE</span>\n",
              "</mark>\n",
              ", \n",
              "<mark class=\"entity\" style=\"background: #feca74; padding: 0.45em 0.6em; margin: 0 0.25em; line-height: 1; border-radius: 0.35em;\">\n",
              "    Mumbai\n",
              "    <span style=\"font-size: 0.8em; font-weight: bold; line-height: 1; border-radius: 0.35em; vertical-align: middle; margin-left: 0.5rem\">GPE</span>\n",
              "</mark>\n",
              ". \n",
              "<mark class=\"entity\" style=\"background: #aa9cfc; padding: 0.45em 0.6em; margin: 0 0.25em; line-height: 1; border-radius: 0.35em;\">\n",
              "    Grant Govan\n",
              "    <span style=\"font-size: 0.8em; font-weight: bold; line-height: 1; border-radius: 0.35em; vertical-align: middle; margin-left: 0.5rem\">PERSON</span>\n",
              "</mark>\n",
              " was its fill</div></span>"
            ]
          },
          "metadata": {}
        }
      ]
    },
    {
      "cell_type": "code",
      "source": [],
      "metadata": {
        "id": "TL6YYOrNC62V"
      },
      "execution_count": null,
      "outputs": []
    }
  ]
}